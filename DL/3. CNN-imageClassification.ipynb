{
 "cells": [
  {
   "cell_type": "code",
   "execution_count": 1,
   "id": "4bb5588b",
   "metadata": {},
   "outputs": [],
   "source": [
    "#  CIFAR-10 dataset (10 classes like airplane, cat, dog, etc.)."
   ]
  },
  {
   "cell_type": "code",
   "execution_count": 2,
   "id": "5a4c7b42",
   "metadata": {},
   "outputs": [
    {
     "name": "stdout",
     "output_type": "stream",
     "text": [
      "Downloading data from https://www.cs.toronto.edu/~kriz/cifar-10-python.tar.gz\n",
      "\u001b[1m170498071/170498071\u001b[0m \u001b[32m━━━━━━━━━━━━━━━━━━━━\u001b[0m\u001b[37m\u001b[0m \u001b[1m38s\u001b[0m 0us/step\n"
     ]
    }
   ],
   "source": [
    "import tensorflow as tf\n",
    "from tensorflow.keras.datasets import cifar10\n",
    "from tensorflow.keras.models import Sequential\n",
    "from tensorflow.keras.layers import Conv2D,MaxPooling2D, Flatten, Dense, Dropout\n",
    "from tensorflow.keras.optimizers import Adam,SGD\n",
    "from tensorflow.keras.utils import to_categorical\n",
    "\n",
    "#load and preprocess\n",
    "(x_train,y_train),(x_test,y_test)= cifar10.load_data()\n",
    "x_train=x_train/255.0\n",
    "x_test=x_test/255.0\n",
    "y_train=to_categorical(y_train,10)\n",
    "y_test=to_categorical(y_test,10)"
   ]
  },
  {
   "cell_type": "code",
   "execution_count": 4,
   "id": "fd6879c1",
   "metadata": {},
   "outputs": [
    {
     "name": "stderr",
     "output_type": "stream",
     "text": [
      "C:\\Users\\rohan\\AppData\\Roaming\\Python\\Python311\\site-packages\\keras\\src\\layers\\convolutional\\base_conv.py:107: UserWarning: Do not pass an `input_shape`/`input_dim` argument to a layer. When using Sequential models, prefer using an `Input(shape)` object as the first layer in the model instead.\n",
      "  super().__init__(activity_regularizer=activity_regularizer, **kwargs)\n"
     ]
    },
    {
     "name": "stdout",
     "output_type": "stream",
     "text": [
      "Epoch 1/5\n",
      "\u001b[1m704/704\u001b[0m \u001b[32m━━━━━━━━━━━━━━━━━━━━\u001b[0m\u001b[37m\u001b[0m \u001b[1m15s\u001b[0m 18ms/step - accuracy: 0.2742 - loss: 1.9512 - val_accuracy: 0.4786 - val_loss: 1.4708\n",
      "Epoch 2/5\n",
      "\u001b[1m704/704\u001b[0m \u001b[32m━━━━━━━━━━━━━━━━━━━━\u001b[0m\u001b[37m\u001b[0m \u001b[1m11s\u001b[0m 16ms/step - accuracy: 0.4665 - loss: 1.4838 - val_accuracy: 0.5626 - val_loss: 1.2679\n",
      "Epoch 3/5\n",
      "\u001b[1m704/704\u001b[0m \u001b[32m━━━━━━━━━━━━━━━━━━━━\u001b[0m\u001b[37m\u001b[0m \u001b[1m11s\u001b[0m 16ms/step - accuracy: 0.5170 - loss: 1.3464 - val_accuracy: 0.5844 - val_loss: 1.1697\n",
      "Epoch 4/5\n",
      "\u001b[1m704/704\u001b[0m \u001b[32m━━━━━━━━━━━━━━━━━━━━\u001b[0m\u001b[37m\u001b[0m \u001b[1m11s\u001b[0m 16ms/step - accuracy: 0.5511 - loss: 1.2639 - val_accuracy: 0.6128 - val_loss: 1.1180\n",
      "Epoch 5/5\n",
      "\u001b[1m704/704\u001b[0m \u001b[32m━━━━━━━━━━━━━━━━━━━━\u001b[0m\u001b[37m\u001b[0m \u001b[1m11s\u001b[0m 16ms/step - accuracy: 0.5764 - loss: 1.1964 - val_accuracy: 0.6402 - val_loss: 1.0477\n",
      "\u001b[1m313/313\u001b[0m \u001b[32m━━━━━━━━━━━━━━━━━━━━\u001b[0m\u001b[37m\u001b[0m \u001b[1m1s\u001b[0m 4ms/step - accuracy: 0.6378 - loss: 1.0605\n",
      "Test Accuracy: 0.6355999708175659\n"
     ]
    }
   ],
   "source": [
    "# CNN WITH hyperparameter tuned\n",
    "learning_rate=0.001\n",
    "dropout_rate=0.4\n",
    "optimizer=Adam(learning_rate=learning_rate)\n",
    "filter_size=(3,3)\n",
    "num_filters=32\n",
    "\n",
    "#CNN\n",
    "model = Sequential([\n",
    "    Conv2D(num_filters,filter_size,activation='relu',input_shape=(32,32,3)),\n",
    "    MaxPooling2D(2,2),\n",
    "    Dropout(dropout_rate),\n",
    "    \n",
    "    Conv2D(64, filter_size, activation='relu'),\n",
    "    MaxPooling2D(2, 2),\n",
    "    Dropout(dropout_rate),\n",
    "    \n",
    "    Flatten(),\n",
    "    Dense(128,activation='relu'),\n",
    "    Dropout(dropout_rate),\n",
    "    Dense(10,activation='softmax') #10 classes\n",
    "    \n",
    "])\n",
    "\n",
    "#compile\n",
    "model.compile(optimizer=optimizer, loss='categorical_crossentropy', metrics=['accuracy'])\n",
    "model.fit(x_train, y_train, epochs=5, batch_size=64, validation_split=0.1)\n",
    "\n",
    "#evaluate\n",
    "loss, acc = model.evaluate(x_test, y_test)\n",
    "print(\"Test Accuracy:\", acc)\n"
   ]
  },
  {
   "cell_type": "code",
   "execution_count": null,
   "id": "793c8d06",
   "metadata": {},
   "outputs": [],
   "source": []
  },
  {
   "cell_type": "code",
   "execution_count": null,
   "id": "ed678d89",
   "metadata": {},
   "outputs": [],
   "source": []
  }
 ],
 "metadata": {
  "kernelspec": {
   "display_name": "Python 3 (ipykernel)",
   "language": "python",
   "name": "python3"
  },
  "language_info": {
   "codemirror_mode": {
    "name": "ipython",
    "version": 3
   },
   "file_extension": ".py",
   "mimetype": "text/x-python",
   "name": "python",
   "nbconvert_exporter": "python",
   "pygments_lexer": "ipython3",
   "version": "3.11.4"
  }
 },
 "nbformat": 4,
 "nbformat_minor": 5
}
