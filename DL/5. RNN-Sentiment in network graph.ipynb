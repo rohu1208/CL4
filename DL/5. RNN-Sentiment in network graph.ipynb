{
 "cells": [
  {
   "cell_type": "code",
   "execution_count": 1,
   "id": "33f68583",
   "metadata": {},
   "outputs": [],
   "source": [
    "import tensorflow as tf\n",
    "from tensorflow.keras.datasets import imdb\n",
    "from tensorflow.keras.preprocessing.sequence import pad_sequences\n",
    "from tensorflow.keras.models import Sequential\n",
    "from tensorflow.keras.layers import Embedding,SimpleRNN,Dense"
   ]
  },
  {
   "cell_type": "code",
   "execution_count": 2,
   "id": "e6a9dfc5",
   "metadata": {},
   "outputs": [],
   "source": [
    "#load dataaa\n",
    "(x_train,y_train),(x_test,y_test)=imdb.load_data(num_words=10000)"
   ]
  },
  {
   "cell_type": "code",
   "execution_count": 4,
   "id": "2ee30e5b",
   "metadata": {},
   "outputs": [],
   "source": [
    "# pad_sequences\n",
    "x_train = pad_sequences(x_train,maxlen=200)\n",
    "x_test = pad_sequences(x_test,maxlen=200)"
   ]
  },
  {
   "cell_type": "code",
   "execution_count": 6,
   "id": "21c86ae1",
   "metadata": {},
   "outputs": [
    {
     "name": "stderr",
     "output_type": "stream",
     "text": [
      "C:\\Users\\rohan\\AppData\\Roaming\\Python\\Python311\\site-packages\\keras\\src\\layers\\core\\embedding.py:90: UserWarning: Argument `input_length` is deprecated. Just remove it.\n",
      "  warnings.warn(\n"
     ]
    },
    {
     "name": "stdout",
     "output_type": "stream",
     "text": [
      "Epoch 1/3\n",
      "\u001b[1m313/313\u001b[0m \u001b[32m━━━━━━━━━━━━━━━━━━━━\u001b[0m\u001b[37m\u001b[0m \u001b[1m14s\u001b[0m 33ms/step - accuracy: 0.5326 - loss: 0.6887 - val_accuracy: 0.6470 - val_loss: 0.6470\n",
      "Epoch 2/3\n",
      "\u001b[1m313/313\u001b[0m \u001b[32m━━━━━━━━━━━━━━━━━━━━\u001b[0m\u001b[37m\u001b[0m \u001b[1m7s\u001b[0m 24ms/step - accuracy: 0.7219 - loss: 0.5764 - val_accuracy: 0.8046 - val_loss: 0.4582\n",
      "Epoch 3/3\n",
      "\u001b[1m313/313\u001b[0m \u001b[32m━━━━━━━━━━━━━━━━━━━━\u001b[0m\u001b[37m\u001b[0m \u001b[1m7s\u001b[0m 24ms/step - accuracy: 0.8149 - loss: 0.4168 - val_accuracy: 0.8004 - val_loss: 0.4490\n"
     ]
    },
    {
     "data": {
      "text/plain": [
       "<keras.src.callbacks.history.History at 0x270ba696350>"
      ]
     },
     "execution_count": 6,
     "metadata": {},
     "output_type": "execute_result"
    }
   ],
   "source": [
    "#RNN\n",
    "model = Sequential([\n",
    "    Embedding(input_dim=10000,output_dim=32,input_length=200),\n",
    "    SimpleRNN(64),\n",
    "    Dense(1,activation='sigmoid') # binary sentiment\n",
    "])\n",
    "#compile and train\n",
    "model.compile(optimizer='adam',loss='binary_crossentropy',metrics=['accuracy'])\n",
    "model.fit(x_train,y_train,epochs=3,batch_size=64,validation_split=0.2)\n"
   ]
  },
  {
   "cell_type": "code",
   "execution_count": 7,
   "id": "93080121",
   "metadata": {},
   "outputs": [
    {
     "name": "stdout",
     "output_type": "stream",
     "text": [
      "\u001b[1m782/782\u001b[0m \u001b[32m━━━━━━━━━━━━━━━━━━━━\u001b[0m\u001b[37m\u001b[0m \u001b[1m9s\u001b[0m 12ms/step - accuracy: 0.8069 - loss: 0.4485\n",
      "Test Accuracy=  0.8086000084877014\n"
     ]
    }
   ],
   "source": [
    "# Evaluate\n",
    "loss,acc=model.evaluate(x_test,y_test)\n",
    "print('Test Accuracy= ',acc)"
   ]
  },
  {
   "cell_type": "code",
   "execution_count": 8,
   "id": "e5f87445",
   "metadata": {},
   "outputs": [
    {
     "name": "stdout",
     "output_type": "stream",
     "text": [
      "\u001b[1m1/1\u001b[0m \u001b[32m━━━━━━━━━━━━━━━━━━━━\u001b[0m\u001b[37m\u001b[0m \u001b[1m0s\u001b[0m 273ms/step\n",
      "Predicted Sentiment: Negative 😞\n"
     ]
    }
   ],
   "source": [
    "# Pick one review from test set\n",
    "sample = x_test[0]  # Already padded\n",
    "\n",
    "# Predict\n",
    "prediction = model.predict(sample.reshape(1, 200))[0][0]\n",
    "print(\"Predicted Sentiment:\", \"Positive 😊\" if prediction > 0.5 else \"Negative 😞\")\n"
   ]
  },
  {
   "cell_type": "code",
   "execution_count": null,
   "id": "1df9d0d6",
   "metadata": {},
   "outputs": [],
   "source": []
  }
 ],
 "metadata": {
  "kernelspec": {
   "display_name": "Python 3 (ipykernel)",
   "language": "python",
   "name": "python3"
  },
  "language_info": {
   "codemirror_mode": {
    "name": "ipython",
    "version": 3
   },
   "file_extension": ".py",
   "mimetype": "text/x-python",
   "name": "python",
   "nbconvert_exporter": "python",
   "pygments_lexer": "ipython3",
   "version": "3.11.4"
  }
 },
 "nbformat": 4,
 "nbformat_minor": 5
}
