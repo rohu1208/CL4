{
 "cells": [
  {
   "cell_type": "code",
   "execution_count": 3,
   "id": "7b15b08b",
   "metadata": {},
   "outputs": [],
   "source": [
    "import tensorflow as tf\n",
    "from tensorflow.keras.datasets import imdb\n",
    "from tensorflow.keras.preprocessing.sequence import pad_sequences\n",
    "from tensorflow.keras.models import Sequential\n",
    "from tensorflow.keras.layers import Embedding,LSTM,Dense"
   ]
  },
  {
   "cell_type": "code",
   "execution_count": 4,
   "id": "7a88e6f4",
   "metadata": {},
   "outputs": [
    {
     "name": "stdout",
     "output_type": "stream",
     "text": [
      "Downloading data from https://storage.googleapis.com/tensorflow/tf-keras-datasets/imdb.npz\n",
      "\u001b[1m17464789/17464789\u001b[0m \u001b[32m━━━━━━━━━━━━━━━━━━━━\u001b[0m\u001b[37m\u001b[0m \u001b[1m3s\u001b[0m 0us/step\n"
     ]
    }
   ],
   "source": [
    "# LOAD Dataset\n",
    "(x_train,y_train),(x_test,y_test)=imdb.load_data(num_words=10000)\n",
    "\n",
    "# pad seq to same length\n",
    "x_train = pad_sequences(x_train,maxlen=200)\n",
    "x_test=pad_sequences(x_test,maxlen=200)\n"
   ]
  },
  {
   "cell_type": "code",
   "execution_count": 5,
   "id": "546dc2a4",
   "metadata": {},
   "outputs": [
    {
     "name": "stderr",
     "output_type": "stream",
     "text": [
      "C:\\Users\\rohan\\AppData\\Roaming\\Python\\Python311\\site-packages\\keras\\src\\layers\\core\\embedding.py:90: UserWarning: Argument `input_length` is deprecated. Just remove it.\n",
      "  warnings.warn(\n"
     ]
    },
    {
     "name": "stdout",
     "output_type": "stream",
     "text": [
      "Epoch 1/3\n",
      "\u001b[1m313/313\u001b[0m \u001b[32m━━━━━━━━━━━━━━━━━━━━\u001b[0m\u001b[37m\u001b[0m \u001b[1m33s\u001b[0m 92ms/step - accuracy: 0.6749 - loss: 0.5654 - val_accuracy: 0.8552 - val_loss: 0.3421\n",
      "Epoch 2/3\n",
      "\u001b[1m313/313\u001b[0m \u001b[32m━━━━━━━━━━━━━━━━━━━━\u001b[0m\u001b[37m\u001b[0m \u001b[1m20s\u001b[0m 65ms/step - accuracy: 0.8962 - loss: 0.2676 - val_accuracy: 0.8608 - val_loss: 0.3382\n",
      "Epoch 3/3\n",
      "\u001b[1m313/313\u001b[0m \u001b[32m━━━━━━━━━━━━━━━━━━━━\u001b[0m\u001b[37m\u001b[0m \u001b[1m20s\u001b[0m 63ms/step - accuracy: 0.9303 - loss: 0.1921 - val_accuracy: 0.8756 - val_loss: 0.3105\n"
     ]
    },
    {
     "data": {
      "text/plain": [
       "<keras.src.callbacks.history.History at 0x2a50aea23d0>"
      ]
     },
     "execution_count": 5,
     "metadata": {},
     "output_type": "execute_result"
    }
   ],
   "source": [
    "# LSTM MODEL\n",
    "model = Sequential([\n",
    "    Embedding(input_dim=10000,output_dim=32,input_length=200),\n",
    "    LSTM(64),\n",
    "    Dense(1,activation='sigmoid')\n",
    "])\n",
    "\n",
    "# compile and train\n",
    "model.compile(optimizer='adam',loss='binary_crossentropy',metrics=['accuracy'])\n",
    "model.fit(x_train,y_train,epochs=3,batch_size=64,validation_split=0.2)"
   ]
  },
  {
   "cell_type": "code",
   "execution_count": 6,
   "id": "0b00b690",
   "metadata": {},
   "outputs": [
    {
     "name": "stdout",
     "output_type": "stream",
     "text": [
      "\u001b[1m782/782\u001b[0m \u001b[32m━━━━━━━━━━━━━━━━━━━━\u001b[0m\u001b[37m\u001b[0m \u001b[1m21s\u001b[0m 27ms/step - accuracy: 0.8670 - loss: 0.3329\n",
      "TEST ACCURACY =  0.867680013179779\n"
     ]
    }
   ],
   "source": [
    "#evaluation\n",
    "loss,acc=model.evaluate(x_test,y_test)\n",
    "print(\"TEST ACCURACY = \",acc)"
   ]
  },
  {
   "cell_type": "markdown",
   "id": "1fbf5444",
   "metadata": {},
   "source": [
    "### Explanation (for Viva):\n",
    "-  IMDb dataset: Preprocessed movie reviews labeled as positive (1) or negative (0).\n",
    "\n",
    "- Embedding Layer: Converts words into vectors.\n",
    "\n",
    "- LSTM Layer: Remembers context using gates (better than simple RNN).\n",
    "\n",
    "- Dense Layer: Output layer with sigmoid for binary prediction.\n",
    "\n",
    "- Loss: Binary cross-entropy since it's a binary classification."
   ]
  },
  {
   "cell_type": "code",
   "execution_count": null,
   "id": "4d004680",
   "metadata": {},
   "outputs": [],
   "source": []
  },
  {
   "cell_type": "code",
   "execution_count": null,
   "id": "2f28951d",
   "metadata": {},
   "outputs": [],
   "source": []
  }
 ],
 "metadata": {
  "kernelspec": {
   "display_name": "Python 3 (ipykernel)",
   "language": "python",
   "name": "python3"
  },
  "language_info": {
   "codemirror_mode": {
    "name": "ipython",
    "version": 3
   },
   "file_extension": ".py",
   "mimetype": "text/x-python",
   "name": "python",
   "nbconvert_exporter": "python",
   "pygments_lexer": "ipython3",
   "version": "3.11.4"
  }
 },
 "nbformat": 4,
 "nbformat_minor": 5
}
